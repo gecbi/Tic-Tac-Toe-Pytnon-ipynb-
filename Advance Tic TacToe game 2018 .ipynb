{
 "cells": [
  {
   "cell_type": "code",
   "execution_count": 1,
   "metadata": {},
   "outputs": [],
   "source": [
    "from IPython.display import clear_output\n",
    "\n",
    "board = ['']*10\n",
    "game_state = ''\n",
    "announce = ''\n"
   ]
  },
  {
   "cell_type": "markdown",
   "metadata": {},
   "source": [
    "Next is a function that will reset the board , in this case we will store values in list."
   ]
  },
  {
   "cell_type": "code",
   "execution_count": 2,
   "metadata": {},
   "outputs": [],
   "source": [
    "#Note : Game will ignore the 0 index \n",
    "\n",
    "def reset_borad():\n",
    "    global board, game_state\n",
    "    board = ['']*10\n",
    "    game_state = True "
   ]
  },
  {
   "cell_type": "markdown",
   "metadata": {},
   "source": [
    "Now create a function to display the board, we will use the numpad as a board reference. Note: Should be better to make board and player classes later ....!"
   ]
  },
  {
   "cell_type": "code",
   "execution_count": 3,
   "metadata": {},
   "outputs": [],
   "source": [
    "def display_board(board):\n",
    "    '''\n",
    "    This function prints out the board so that the numpad can be used as a reference!\n",
    "    '''\n",
    "    #Clear current cell output\n",
    "    clear_output()\n",
    "    \n",
    "    print (\" \"+ board[7]+\" |\"+board[8]+\" |\"+board[9]+\" \")\n",
    "    print (\"__________\")\n",
    "    print (\" \"+ board[4]+\" |\"+board[5]+\" |\"+board[6]+\" \")\n",
    "    print (\"__________\")\n",
    "    print (\" \"+ board[1]+\" |\"+board[2]+\" |\"+board[3]+\" \")\n",
    "    "
   ]
  },
  {
   "cell_type": "markdown",
   "metadata": {},
   "source": [
    "Define function to check for a win by comparing inputs in the board list . Note : May be should judt have a list ot wining combosand cycle through them ?"
   ]
  },
  {
   "cell_type": "code",
   "execution_count": 4,
   "metadata": {},
   "outputs": [],
   "source": [
    "def win_check(board):\n",
    "    '''Check Horizontal, Verticals, and Dioagonals for a win...'''\n",
    "    counter = 0\n",
    "    row1 = board[1:4]\n",
    "    row2 = board[4:7]\n",
    "    row3 = board[7:]\n",
    "    col1 = board[1:8:3]\n",
    "    col2 = board[2:9:3]\n",
    "    col3 = board[3::3]\n",
    "    for i in board:\n",
    "        \n",
    "        if row1[counter] == row2[counter] == row3[counter] :\n",
    "            print(counter)\n",
    "            return True\n",
    "        elif col1[counter] == col2[counter] == col3[counter] :\n",
    "            print(counter)\n",
    "            return True\n",
    "        elif counter<=3:\n",
    "                counter = counter + 1\n",
    "                print(counter)\n",
    "        else:\n",
    "            continue\n",
    "            \n",
    "    return False"
   ]
  },
  {
   "cell_type": "code",
   "execution_count": 5,
   "metadata": {},
   "outputs": [],
   "source": [
    "test_board= ['#','O','X','O','X','X','X','O','X','O']"
   ]
  },
  {
   "cell_type": "code",
   "execution_count": 6,
   "metadata": {},
   "outputs": [
    {
     "name": "stdout",
     "output_type": "stream",
     "text": [
      " O |X |O \n",
      "__________\n",
      " X |X |X \n",
      "__________\n",
      " O |X |O \n"
     ]
    },
    {
     "data": {
      "text/plain": [
       "list"
      ]
     },
     "execution_count": 6,
     "metadata": {},
     "output_type": "execute_result"
    }
   ],
   "source": [
    "display_board(test_board)\n",
    "type(test_board)"
   ]
  },
  {
   "cell_type": "code",
   "execution_count": 7,
   "metadata": {},
   "outputs": [
    {
     "name": "stdout",
     "output_type": "stream",
     "text": [
      "1\n",
      "1\n"
     ]
    },
    {
     "data": {
      "text/plain": [
       "True"
      ]
     },
     "execution_count": 7,
     "metadata": {},
     "output_type": "execute_result"
    }
   ],
   "source": [
    "win_check(test_board)"
   ]
  },
  {
   "cell_type": "code",
   "execution_count": null,
   "metadata": {},
   "outputs": [],
   "source": []
  },
  {
   "cell_type": "code",
   "execution_count": null,
   "metadata": {},
   "outputs": [],
   "source": []
  }
 ],
 "metadata": {
  "kernelspec": {
   "display_name": "Python 3",
   "language": "python",
   "name": "python3"
  },
  "language_info": {
   "codemirror_mode": {
    "name": "ipython",
    "version": 3
   },
   "file_extension": ".py",
   "mimetype": "text/x-python",
   "name": "python",
   "nbconvert_exporter": "python",
   "pygments_lexer": "ipython3",
   "version": "3.6.4"
  }
 },
 "nbformat": 4,
 "nbformat_minor": 2
}
